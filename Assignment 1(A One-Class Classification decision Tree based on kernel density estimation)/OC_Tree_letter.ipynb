{
 "cells": [
  {
   "cell_type": "code",
   "execution_count": 11,
   "metadata": {
    "id": "G7TPZcLFrsm1"
   },
   "outputs": [],
   "source": [
    "from sklearn.neighbors import KernelDensity\n",
    "import pandas as pd\n",
    "data = pd.read_csv(\"/content/letter-recognition.data\")"
   ]
  },
  {
   "cell_type": "code",
   "execution_count": 12,
   "metadata": {
    "id": "CqyixrsIyeWI"
   },
   "outputs": [],
   "source": [
    "train_data = data.sample(frac=0.7)\n",
    "test_data = data.drop(train_data.index)"
   ]
  },
  {
   "cell_type": "code",
   "execution_count": 13,
   "metadata": {
    "id": "r68SxnQdyowk"
   },
   "outputs": [],
   "source": [
    "def label_data(label):\n",
    "  labels = np.array(train_data['Label'].unique())\n",
    "  df = []\n",
    "  for l in labels:\n",
    "    if(l==label):\n",
    "      df.append(train_data[train_data['Label']==l])\n",
    "    else:\n",
    "      df.append(train_data[train_data['Label']==l].sample(frac=0.04))\n",
    "  return pd.concat(df)"
   ]
  },
  {
   "cell_type": "code",
   "execution_count": 14,
   "metadata": {
    "id": "FizUqVuSy1Vk"
   },
   "outputs": [],
   "source": [
    "import numpy as np\n",
    "from sklearn.ensemble import IsolationForest\n",
    "OCtree_for_label = {}\n",
    "int_to_letter = {}\n",
    "for i,l in enumerate(np.array(train_data['Label'].unique())):\n",
    "  int_to_letter[i]=l\n",
    "  data_label = label_data(l)\n",
    "  clf = IsolationForest().fit(data_label.drop('Label',axis=1))\n",
    "  OCtree_for_label[l]=clf"
   ]
  },
  {
   "cell_type": "code",
   "execution_count": 15,
   "metadata": {
    "id": "baIPxd8Fy9XI"
   },
   "outputs": [],
   "source": [
    "predictions = []\n",
    "for let in OCtree_for_label:\n",
    "  predictions.append(OCtree_for_label[let].decision_function(test_data.drop('Label',axis=1)))"
   ]
  },
  {
   "cell_type": "code",
   "execution_count": 16,
   "metadata": {
    "colab": {
     "base_uri": "https://localhost:8080/"
    },
    "id": "mTudRtRJ4W69",
    "outputId": "73449396-8c46-4c6b-8db4-1f23105f7d3d"
   },
   "outputs": [
    {
     "data": {
      "text/plain": [
       "array(-0.02583969)"
      ]
     },
     "execution_count": 16,
     "metadata": {
      "tags": []
     },
     "output_type": "execute_result"
    }
   ],
   "source": [
    "np.array(predictions[0][6])"
   ]
  },
  {
   "cell_type": "code",
   "execution_count": 17,
   "metadata": {
    "id": "hw4ARjpay-CV"
   },
   "outputs": [],
   "source": [
    "predictions = np.array(predictions).T"
   ]
  },
  {
   "cell_type": "code",
   "execution_count": 18,
   "metadata": {
    "colab": {
     "base_uri": "https://localhost:8080/"
    },
    "id": "WdHTTTfi4K5A",
    "outputId": "c0fda611-b094-4ad2-a56b-58df5e928708"
   },
   "outputs": [
    {
     "data": {
      "text/plain": [
       "(6000, 26)"
      ]
     },
     "execution_count": 18,
     "metadata": {
      "tags": []
     },
     "output_type": "execute_result"
    }
   ],
   "source": [
    "predictions.shape"
   ]
  },
  {
   "cell_type": "code",
   "execution_count": 19,
   "metadata": {
    "id": "Lk3P9uufzG9o"
   },
   "outputs": [],
   "source": [
    "ans = []\n",
    "for i,pred in enumerate(predictions):\n",
    "  ans.append(int_to_letter[pred.argmax()])"
   ]
  },
  {
   "cell_type": "code",
   "execution_count": 20,
   "metadata": {
    "colab": {
     "base_uri": "https://localhost:8080/"
    },
    "id": "Jy2C0BCdzJWL",
    "outputId": "74eeed4c-fc18-424d-80e8-1d2993f1da12"
   },
   "outputs": [
    {
     "name": "stdout",
     "output_type": "stream",
     "text": [
      "              precision    recall  f1-score   support\n",
      "\n",
      "           A       0.87      0.85      0.86       265\n",
      "           B       0.51      0.70      0.59       230\n",
      "           C       0.70      0.67      0.69       204\n",
      "           D       0.55      0.69      0.61       242\n",
      "           E       0.62      0.43      0.51       231\n",
      "           F       0.69      0.67      0.68       228\n",
      "           G       0.59      0.55      0.57       258\n",
      "           H       0.35      0.39      0.37       204\n",
      "           I       0.93      0.74      0.83       230\n",
      "           J       0.83      0.71      0.77       219\n",
      "           K       0.52      0.48      0.50       199\n",
      "           L       0.92      0.77      0.84       215\n",
      "           M       0.57      0.91      0.70       258\n",
      "           N       0.82      0.66      0.73       239\n",
      "           O       0.78      0.50      0.61       229\n",
      "           P       0.91      0.69      0.79       241\n",
      "           Q       0.56      0.70      0.62       236\n",
      "           R       0.71      0.41      0.52       260\n",
      "           S       0.28      0.46      0.35       209\n",
      "           T       0.88      0.57      0.69       245\n",
      "           U       0.63      0.74      0.68       224\n",
      "           V       0.62      0.73      0.67       223\n",
      "           W       0.77      0.87      0.82       229\n",
      "           X       0.54      0.30      0.39       245\n",
      "           Y       0.53      0.52      0.53       221\n",
      "           Z       0.50      0.75      0.60       216\n",
      "\n",
      "    accuracy                           0.64      6000\n",
      "   macro avg       0.66      0.63      0.64      6000\n",
      "weighted avg       0.67      0.64      0.64      6000\n",
      "\n"
     ]
    }
   ],
   "source": [
    "from sklearn.metrics import classification_report\n",
    "print(classification_report(test_data['Label'], ans))"
   ]
  }
 ],
 "metadata": {
  "colab": {
   "name": "OneClassTree_letter.ipynb",
   "provenance": []
  },
  "kernelspec": {
   "display_name": "Python 3",
   "language": "python",
   "name": "python3"
  },
  "language_info": {
   "codemirror_mode": {
    "name": "ipython",
    "version": 3
   },
   "file_extension": ".py",
   "mimetype": "text/x-python",
   "name": "python",
   "nbconvert_exporter": "python",
   "pygments_lexer": "ipython3",
   "version": "3.8.5"
  }
 },
 "nbformat": 4,
 "nbformat_minor": 1
}
