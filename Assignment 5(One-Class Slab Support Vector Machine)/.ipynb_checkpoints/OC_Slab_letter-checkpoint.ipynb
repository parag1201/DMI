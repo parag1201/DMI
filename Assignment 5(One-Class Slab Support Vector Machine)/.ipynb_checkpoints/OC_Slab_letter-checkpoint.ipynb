{
 "cells": [
  {
   "cell_type": "code",
   "execution_count": 1,
   "metadata": {
    "id": "jlBjGaTAoY4b"
   },
   "outputs": [],
   "source": [
    "import pandas as pd\n",
    "data = pd.read_csv(\"/content/letter-recognition.data\")"
   ]
  },
  {
   "cell_type": "code",
   "execution_count": 2,
   "metadata": {
    "id": "M9k9cZAYcsEf"
   },
   "outputs": [],
   "source": [
    "train_data = data.sample(frac=0.7)\n",
    "test_data = data.drop(train_data.index)"
   ]
  },
  {
   "cell_type": "code",
   "execution_count": 3,
   "metadata": {
    "id": "EnUOgprAB9qX"
   },
   "outputs": [],
   "source": [
    "def label_data(label):\n",
    "  labels = np.array(train_data['Label'].unique())\n",
    "  df = []\n",
    "  for l in labels:\n",
    "    if(l==label):\n",
    "      df.append(train_data[train_data['Label']==l])\n",
    "    else:\n",
    "      df.append(train_data[train_data['Label']==l].sample(frac=0.04))\n",
    "  return pd.concat(df)\n",
    "\n",
    "def label_data2(label):\n",
    "  return train_data"
   ]
  },
  {
   "cell_type": "code",
   "execution_count": 4,
   "metadata": {
    "id": "LMucxKWlB9qZ"
   },
   "outputs": [],
   "source": [
    "from sklearn.svm import OneClassSVM\n",
    "import numpy as np\n",
    "OCSVM_for_label = {}\n",
    "int_to_letter = {}\n",
    "for i,l in enumerate(np.array(train_data['Label'].unique())):\n",
    "  int_to_letter[i]=l\n",
    "  data_label = label_data(l)\n",
    "  # data_label['Label'].replace()\n",
    "  data2_label = label_data2(l)\n",
    "  # data2_label['Label'].hist()\n",
    "  # data_label['Label'].hist()\n",
    "  # break\n",
    "  # print(data2_label)\n",
    "  clf = OneClassSVM(gamma='auto').fit(data_label.drop('Label',axis=1))\n",
    "  clf2 = OneClassSVM(gamma='auto').fit(data2_label.drop('Label',axis=1))\n",
    "  OCSVM_for_label[l]=(clf,clf2)"
   ]
  },
  {
   "cell_type": "code",
   "execution_count": 5,
   "metadata": {
    "id": "B7RE3wMMB9qe"
   },
   "outputs": [],
   "source": [
    "predictions = []\n",
    "for let in OCSVM_for_label:\n",
    "  predictions.append(-(OCSVM_for_label[let][0].decision_function(test_data.drop('Label',axis=1)))*(OCSVM_for_label[let][1].decision_function(test_data.drop('Label',axis=1))))"
   ]
  },
  {
   "cell_type": "code",
   "execution_count": 6,
   "metadata": {
    "id": "iQRwN0zJB9qf"
   },
   "outputs": [],
   "source": [
    "predictions = np.array(predictions).T"
   ]
  },
  {
   "cell_type": "code",
   "execution_count": 7,
   "metadata": {
    "id": "6WMGmbtlB9qh"
   },
   "outputs": [],
   "source": [
    "ans = []\n",
    "for i,pred in enumerate(predictions):\n",
    "  ans.append(int_to_letter[pred.argmax()])"
   ]
  },
  {
   "cell_type": "code",
   "execution_count": 8,
   "metadata": {
    "colab": {
     "base_uri": "https://localhost:8080/"
    },
    "id": "SL_d9rQRB9qj",
    "outputId": "1fa2b589-b3eb-44c9-9dca-166d02a4c0c9"
   },
   "outputs": [
    {
     "name": "stdout",
     "output_type": "stream",
     "text": [
      "              precision    recall  f1-score   support\n",
      "\n",
      "           A       0.52      0.60      0.56       213\n",
      "           B       0.12      0.16      0.13       240\n",
      "           C       0.61      0.58      0.59       219\n",
      "           D       0.20      0.27      0.23       272\n",
      "           E       0.28      0.26      0.27       236\n",
      "           F       0.37      0.42      0.39       229\n",
      "           G       0.42      0.22      0.29       245\n",
      "           H       0.65      0.35      0.46       210\n",
      "           I       0.59      0.52      0.55       232\n",
      "           J       0.81      0.74      0.77       221\n",
      "           K       0.73      0.47      0.58       217\n",
      "           L       0.74      0.71      0.72       211\n",
      "           M       0.64      0.78      0.70       246\n",
      "           N       0.77      0.54      0.63       222\n",
      "           O       0.03      0.10      0.05       220\n",
      "           P       0.55      0.59      0.57       221\n",
      "           Q       0.84      0.46      0.59       239\n",
      "           R       0.46      0.28      0.35       255\n",
      "           S       0.77      0.47      0.59       201\n",
      "           T       0.41      0.55      0.47       238\n",
      "           U       0.69      0.55      0.61       240\n",
      "           V       0.56      0.51      0.53       243\n",
      "           W       0.65      0.72      0.69       245\n",
      "           X       0.20      0.22      0.21       224\n",
      "           Y       0.65      0.61      0.63       241\n",
      "           Z       0.76      0.55      0.63       220\n",
      "\n",
      "    accuracy                           0.47      6000\n",
      "   macro avg       0.54      0.47      0.49      6000\n",
      "weighted avg       0.53      0.47      0.49      6000\n",
      "\n"
     ]
    }
   ],
   "source": [
    "from sklearn.metrics import classification_report\n",
    "print(classification_report(test_data['Label'], ans))"
   ]
  },
  {
   "cell_type": "code",
   "execution_count": 9,
   "metadata": {
    "id": "Wy4QRJk9_um9"
   },
   "outputs": [],
   "source": [
    "def label_data(label):\n",
    "  labels = np.array(train_data['Label'].unique())\n",
    "  df = []\n",
    "  for l in labels:\n",
    "    if(l==label):\n",
    "      df.append(train_data[train_data['Label']==l])\n",
    "    else:\n",
    "      df.append(train_data[train_data['Label']==l].sample(frac=0.04))\n",
    "  return pd.concat(df)\n",
    "\n",
    "def label_data2(label):\n",
    "  return train_data"
   ]
  },
  {
   "cell_type": "code",
   "execution_count": 10,
   "metadata": {
    "id": "PtdR_mvH_unB"
   },
   "outputs": [],
   "source": [
    "from sklearn.svm import OneClassSVM\n",
    "import numpy as np\n",
    "OCSVM_for_label = {}\n",
    "int_to_letter = {}\n",
    "for i,l in enumerate(np.array(train_data['Label'].unique())):\n",
    "  int_to_letter[i]=l\n",
    "  data_label = label_data(l)\n",
    "  # data_label['Label'].replace()\n",
    "  data2_label = label_data2(l)\n",
    "  # data2_label['Label'].hist()\n",
    "  # data_label['Label'].hist()\n",
    "  # break\n",
    "  # print(data2_label)\n",
    "  clf = OneClassSVM(gamma='auto').fit(data_label.drop('Label',axis=1))\n",
    "  clf2 = OneClassSVM(gamma='auto').fit(data2_label.drop('Label',axis=1))\n",
    "  OCSVM_for_label[l]=(clf,clf2)"
   ]
  },
  {
   "cell_type": "code",
   "execution_count": 11,
   "metadata": {
    "id": "0Td_q3mH_unE"
   },
   "outputs": [],
   "source": [
    "predictions = []\n",
    "for let in OCSVM_for_label:\n",
    "  predictions.append(-(OCSVM_for_label[let][0].decision_function(test_data.drop('Label',axis=1)))*(OCSVM_for_label[let][1].decision_function(test_data.drop('Label',axis=1))))"
   ]
  },
  {
   "cell_type": "code",
   "execution_count": 12,
   "metadata": {
    "id": "7Zn5O9_-_unF"
   },
   "outputs": [],
   "source": [
    "predictions = np.array(predictions).T"
   ]
  },
  {
   "cell_type": "code",
   "execution_count": 13,
   "metadata": {
    "id": "TxOBVbX7_unI"
   },
   "outputs": [],
   "source": [
    "ans = []\n",
    "for i,pred in enumerate(predictions):\n",
    "  ans.append(int_to_letter[pred.argmax()])"
   ]
  },
  {
   "cell_type": "code",
   "execution_count": 14,
   "metadata": {
    "colab": {
     "base_uri": "https://localhost:8080/"
    },
    "id": "g8aPYRBr_unZ",
    "outputId": "d03e5fe4-ed7c-45fc-98aa-2f36d65e563b"
   },
   "outputs": [
    {
     "name": "stdout",
     "output_type": "stream",
     "text": [
      "              precision    recall  f1-score   support\n",
      "\n",
      "           A       0.44      0.61      0.51       213\n",
      "           B       0.15      0.18      0.16       240\n",
      "           C       0.42      0.57      0.48       219\n",
      "           D       0.26      0.27      0.26       272\n",
      "           E       0.42      0.26      0.32       236\n",
      "           F       0.47      0.43      0.45       229\n",
      "           G       0.21      0.19      0.20       245\n",
      "           H       0.71      0.36      0.48       210\n",
      "           I       0.62      0.53      0.57       232\n",
      "           J       0.73      0.74      0.74       221\n",
      "           K       0.87      0.47      0.61       217\n",
      "           L       0.75      0.71      0.73       211\n",
      "           M       0.63      0.78      0.70       246\n",
      "           N       0.51      0.53      0.52       222\n",
      "           O       0.06      0.09      0.07       220\n",
      "           P       0.64      0.58      0.61       221\n",
      "           Q       0.77      0.45      0.57       239\n",
      "           R       0.44      0.31      0.36       255\n",
      "           S       0.60      0.47      0.53       201\n",
      "           T       0.37      0.55      0.44       238\n",
      "           U       0.46      0.54      0.50       240\n",
      "           V       0.47      0.51      0.49       243\n",
      "           W       0.69      0.74      0.71       245\n",
      "           X       0.15      0.21      0.18       224\n",
      "           Y       0.60      0.62      0.61       241\n",
      "           Z       0.74      0.55      0.63       220\n",
      "\n",
      "    accuracy                           0.47      6000\n",
      "   macro avg       0.51      0.47      0.48      6000\n",
      "weighted avg       0.50      0.47      0.48      6000\n",
      "\n"
     ]
    }
   ],
   "source": [
    "from sklearn.metrics import classification_report\n",
    "print(classification_report(test_data['Label'], ans))"
   ]
  }
 ],
 "metadata": {
  "colab": {
   "name": "OneClassSlab_letter.ipynb",
   "provenance": []
  },
  "kernelspec": {
   "display_name": "Python 3",
   "language": "python",
   "name": "python3"
  },
  "language_info": {
   "codemirror_mode": {
    "name": "ipython",
    "version": 3
   },
   "file_extension": ".py",
   "mimetype": "text/x-python",
   "name": "python",
   "nbconvert_exporter": "python",
   "pygments_lexer": "ipython3",
   "version": "3.8.5"
  }
 },
 "nbformat": 4,
 "nbformat_minor": 1
}
